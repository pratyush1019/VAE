{
 "cells": [
  {
   "cell_type": "code",
   "execution_count": 1,
   "metadata": {},
   "outputs": [],
   "source": [
    "import torch\n",
    "import torch.nn as nn\n",
    "import torch.nn.functional as F\n"
   ]
  },
  {
   "cell_type": "code",
   "execution_count": 2,
   "metadata": {},
   "outputs": [],
   "source": [
    "import torchvision\n",
    "from torchvision import datasets\n",
    "from torchvision import transforms\n",
    "\n",
    "train_data = datasets.MNIST(root='./data_mnist/train/', train=True, transform=transforms.ToTensor(), download=False)\n",
    "test_data = datasets.MNIST(root='./mnist_data/test/', train=False, transform=transforms.ToTensor(), download=False)\n",
    "\n",
    "tr = torch.utils.data.DataLoader(dataset=train_data, batch_size=8, shuffle=True)\n",
    "tst = torch.utils.data.DataLoader(dataset=test_data, batch_size=8, shuffle=False)"
   ]
  },
  {
   "cell_type": "code",
   "execution_count": 3,
   "metadata": {},
   "outputs": [
    {
     "name": "stdout",
     "output_type": "stream",
     "text": [
      "linear_enc1 (784, 512)\n",
      "linear_enc2 (512, 256)\n",
      "linear_enc4_mean (256, 128)\n",
      "linear_enc4_std (256, 128)\n",
      "linear_dec3 (128, 256)\n",
      "linear_dec2 (256, 512)\n",
      "linear_dec1 (512, 784)\n"
     ]
    }
   ],
   "source": [
    "from model import VAE,VAEloss\n",
    "\n",
    "layers = [784,512,256,128]\n",
    "vae = VAE(layers)\n",
    "if torch.cuda.is_available():\n",
    "    vae.cuda()\n",
    "vae.describe()"
   ]
  },
  {
   "cell_type": "code",
   "execution_count": 4,
   "metadata": {},
   "outputs": [],
   "source": [
    "import torch.optim as optim\n",
    "\n",
    "optimizer = optim.Adam(vae.parameters())\n",
    "criterion = VAEloss"
   ]
  },
  {
   "cell_type": "code",
   "execution_count": null,
   "metadata": {},
   "outputs": [
    {
     "name": "stdout",
     "output_type": "stream",
     "text": [
      "(1,     1) item-loss: 4358.674804688\n",
      "[1] epoch-loss: 8219306.298217773\n",
      "(2,     1) item-loss: 1036.805541992\n",
      "[2] epoch-loss: 6755803.571411133\n",
      "(3,     1) item-loss: 823.045043945\n",
      "[3] epoch-loss: 6538674.324279785\n",
      "(4,     1) item-loss: 993.188110352\n",
      "[4] epoch-loss: 6378905.755340576\n",
      "(5,     1) item-loss: 1004.266906738\n",
      "[5] epoch-loss: 6280602.630920410\n",
      "(6,     1) item-loss: 778.865112305\n",
      "[6] epoch-loss: 6222461.328277588\n",
      "(7,     1) item-loss: 750.075317383\n",
      "[7] epoch-loss: 6176205.699462891\n",
      "(8,     1) item-loss: 833.206115723\n",
      "[8] epoch-loss: 6143009.326416016\n",
      "(9,     1) item-loss: 640.205444336\n"
     ]
    }
   ],
   "source": [
    "loss_history = []\n",
    "# acc_history = []\n",
    "for epoch in range(10):\n",
    "    train_loss = 0.0\n",
    "    for i,data in enumerate(tr):\n",
    "        x, y = data\n",
    "        if torch.cuda.is_available():\n",
    "            x, y = x.cuda(), y.cuda()\n",
    "        optimizer.zero_grad()\n",
    "        y_pred, mean, logstd = vae(x.view(-1,784))\n",
    "        loss = criterion(y_pred, x.view(-1,784), mean, logstd)\n",
    "        x = loss.item()\n",
    "        train_loss += x\n",
    "        if (i%10000==0):\n",
    "            print('(%d, %5d) item-loss: %.9f'%(epoch + 1, i + 1, x))\n",
    "        loss.backward()\n",
    "        optimizer.step()   \n",
    "    print('[%d] epoch-loss: %.9f'%(epoch + 1, train_loss))\n",
    "    loss_history.append(train_loss)\n",
    "#     acc_history.append(get_accuracy())\n",
    "print('Finished Training')"
   ]
  },
  {
   "cell_type": "code",
   "execution_count": null,
   "metadata": {},
   "outputs": [],
   "source": [
    "import matplotlib.pyplot as plt\n",
    "plt.plot(loss_history)"
   ]
  },
  {
   "cell_type": "code",
   "execution_count": null,
   "metadata": {},
   "outputs": [],
   "source": [
    "##saving the model\n",
    "PATH = 'vae_mnist.pth'\n",
    "torch.save(vae.state_dict(), PATH)\n",
    "##loading the model\n",
    "model = VAE(layers)\n",
    "model.load_state_dict(torch.load(PATH))\n",
    "model.eval()"
   ]
  },
  {
   "cell_type": "code",
   "execution_count": null,
   "metadata": {},
   "outputs": [],
   "source": [
    "import matplotlib.pyplot as plt\n",
    "import numpy as np\n",
    "from PIL import Image\n",
    "from torchvision.utils import save_image\n",
    "from IPython.display import Image\n",
    "\n",
    "sample = torch.randn(128, 128)\n",
    "gen_x = model.decode(sample)\n",
    "save_image(gen_x.view(128, 1, 28, 28).data.cpu(), 'sample_image.png')\n",
    "Image('sample_image.png')\n",
    "# gen_x = gen_x.cpu().detach().numpy()\n",
    "\n",
    "# f = plt.figure()\n",
    "# plt.imshow(gen_x)"
   ]
  }
 ],
 "metadata": {
  "kernelspec": {
   "display_name": "Python 3",
   "language": "python",
   "name": "python3"
  },
  "language_info": {
   "codemirror_mode": {
    "name": "ipython",
    "version": 3
   },
   "file_extension": ".py",
   "mimetype": "text/x-python",
   "name": "python",
   "nbconvert_exporter": "python",
   "pygments_lexer": "ipython3",
   "version": "3.7.4"
  }
 },
 "nbformat": 4,
 "nbformat_minor": 2
}
